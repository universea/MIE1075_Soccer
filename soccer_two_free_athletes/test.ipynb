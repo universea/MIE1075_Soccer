{
 "cells": [
  {
   "cell_type": "code",
   "execution_count": null,
   "metadata": {},
   "outputs": [],
   "source": [
    "\n",
    "import numpy as np\n",
    "import gym\n",
    "\n",
    "from mlagents_envs.base_env import ActionTuple, BaseEnv, DecisionSteps, TerminalSteps\n",
    "from mlagents_envs.side_channel.engine_configuration_channel import EngineConfigurationChannel\n",
    "from mlagents_envs.environment import UnityEnvironment\n",
    "\n",
    "from mlagents_envs.envs.unity_gym_env import UnityToGymWrapper\n",
    "\n",
    "envunity = UnityEnvironment(file_name=\"C://Users//raman//Documents//Pengsong//MIE1075_Soccer//buildmysoccer//SoccerTwos\", seed=1, side_channels=[])\n",
    "\n",
    "\n",
    "# SoccerTwos UnityEnvironment\n",
    "#envunity.reset()\n"
   ]
  }
 ],
 "metadata": {
  "language_info": {
   "name": "python"
  },
  "orig_nbformat": 4
 },
 "nbformat": 4,
 "nbformat_minor": 2
}
